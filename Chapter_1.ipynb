{
 "cells": [
  {
   "cell_type": "markdown",
   "id": "c57fe05d-14f4-4628-8f5f-bfc8a7794059",
   "metadata": {},
   "source": [
    "# Chapter 1\n",
    "**Author:** Veasna Bun "
   ]
  },
  {
   "cell_type": "markdown",
   "id": "cd08b520-437d-4a8d-97cd-d7c7ca6c123d",
   "metadata": {},
   "source": [
    "---\n",
    "## Section 1.1: Intro to Statistics\n",
    "---"
   ]
  },
  {
   "cell_type": "markdown",
   "id": "3610f381-1ed5-4c1b-8112-efc0a95304ae",
   "metadata": {},
   "source": [
    "+ **Population:** All people or things that you are studying.\n",
    "+ **Parameter:** A numerical description measuring the variable of interest in the POPULATION.\n",
    "+ **Sample:** A Representative subset of the population.\n",
    "+ **Statistic:** A numerical description measuring the variable of interest in the SAMPLE.\n",
    "+ **Variable:**  Any characteristic, Number, or Quantity that can be measured or quantified.\n",
    "+ **Data:**: Counts, Measurements or Observations Recorded about a specific variable.\n",
    "+ **Census:** When data is studied from every member of the population."
   ]
  },
  {
   "cell_type": "markdown",
   "id": "f74c943a-0bff-43fa-8436-f0bae9c75605",
   "metadata": {},
   "source": [
    "+ **Descriptive** Statistics: Data that is collected, organized, summarized and displayed.\n",
    "+ **Inferential Statistics:** Using data that is gathered to make predictions (Inferential) about the population parameter. "
   ]
  },
  {
   "cell_type": "markdown",
   "id": "c4be6843-facd-4d28-a974-50402bf60d3e",
   "metadata": {},
   "source": [
    "---\n",
    "## Section 1.2: Classifying Data\n",
    "---"
   ]
  },
  {
   "cell_type": "markdown",
   "id": "cef7722c-3d75-45f4-8176-c1821aa4f59e",
   "metadata": {},
   "source": [
    "### Qualitative Variable:\n",
    "These variables represent categories. Numbers can be used here but we wouldn’t find value in analyzing the numbers.\n",
    "+ Neither Continuous nor Discrete  \n",
    "  + **Nominal:** data consisting of labels or names.\n",
    "  + **Ordinal:** data can be arranged in a meaningful order, but calculations don’t make sense.\n"
   ]
  },
  {
   "cell_type": "markdown",
   "id": "b6f4b80a-7ab2-4ac1-bb59-c5e43e1bb752",
   "metadata": {},
   "source": [
    "### Quantitative Variable: \n",
    "These variables represent measurable quantities and are expressed numerically. Typically records the amount of degree of something.\n",
    "#### Continuous: \n",
    "Data that can take on any value in an interval and are usually measurements.\n",
    "+ **Interval:** data can be arranged in a meaning order and differences between data entries are meaningful. Zero has no meaning.\n",
    "+ **Ratio:** data can be arranged in a meaning order and differences between data entries are meaningful. Zero indicates the absence of something\n",
    "#### Discrete: \n",
    "Data that can take on only particular values and are Interger.\n",
    "+ **Interval:** data can be arranged in a meaning order and differences between data entries are meaningful. Zero has no meaning.\n",
    "+ **Ratio:** data can be arranged in a meaning order and differences between data entries are meaningful. Zero indicates the absence of something"
   ]
  },
  {
   "cell_type": "markdown",
   "id": "af5cea9b-3be2-4f8a-b01a-bbfee89304a3",
   "metadata": {},
   "source": [
    "---\n",
    "## Section 1.3.1: Introduction to Statistics Studies\n",
    "---"
   ]
  },
  {
   "cell_type": "markdown",
   "id": "daec797f-7a20-4bfe-a2b4-6a9255b12d8e",
   "metadata": {},
   "source": [
    "**Statistical Study:** In the real world we often want to answer a question or gather knowledge about a particular subject. To do this in a way in which our results can be trusted and verified, we must follow the process of a statistical study."
   ]
  },
  {
   "cell_type": "markdown",
   "id": "8a942a0d-ac06-4e9b-a6b7-b0f573fbf4cf",
   "metadata": {},
   "source": [
    "1. Determine the design of the study:\n",
    "    \n",
    "    1. What question are we trying to answer? (Why?)\n",
    "    2. What is the population? (Who?)\n",
    "    3. What variables will we record? (What?)\n",
    "    4. What is the sampling method? (How?)\n",
    "        1. Observation Study\n",
    "            + **Retroactive:** deals with actions or effects that influence the past\n",
    "            + **Proactive:** involves taking measures to prepare for or prevent \n",
    "        2. Experiments"
   ]
  },
  {
   "cell_type": "markdown",
   "id": "730740e2-a1fb-41bf-b370-0bae251148f3",
   "metadata": {},
   "source": [
    "2. Collect the data\n",
    "3. Organize the data Analyze the data to answer the question"
   ]
  },
  {
   "cell_type": "markdown",
   "id": "7a37e439-09b1-48da-a67e-4ab3156781c5",
   "metadata": {},
   "source": [
    "----\n",
    "## Section 1.3.2: Observation Study \n",
    "----"
   ]
  },
  {
   "cell_type": "markdown",
   "id": "4705f2ad-ffb7-4978-8038-4bdb564da611",
   "metadata": {},
   "source": [
    "### Observation Study:\n",
    "Collect data about our population. However, it is too costly or difficult to perform a census, so we instead find a sample that has the same **RELEVANT** characteristic as the population.\n",
    "\n",
    "**Representative Sample** has the same revenant characteristic as the population and does not favor one group from the population over another."
   ]
  },
  {
   "cell_type": "markdown",
   "id": "46fc1710-cb73-4b1c-bcda-77138f924e69",
   "metadata": {},
   "source": [
    "#### Techniques use to collect Sample Data:\n",
    "+  **Random Sample:** broad term that covers any sampling method where the selection is random but may not be equal for all.\n",
    "+  **Simple Random Sample (SRS):** ensures equal probability for every individual being selected.\n",
    "+  **Stratified Sample:** the population is divided into groups or strata based on certain characteristics and then a random sample is taken from each group.\n",
    "+  **Cluster Sample:** the population is divided into clusters, and entire clusters are randomly selected.\n",
    "+  **Systematic Sample:** sampling method where you select every kth individual from a list or population.\n",
    "+  **Convenience Sample:** sample is a non-probability sampling method where the sample is chosen based on availability."
   ]
  },
  {
   "cell_type": "markdown",
   "id": "194b7976-1446-422a-bc03-545e9553cf4b",
   "metadata": {},
   "source": [
    "#### Types of Observational Studies:\n",
    "+  **Cross-Sectional Study:** Data are collected at a single point in time, providing a snapshot of a population or phenomenon at that moment.\n",
    "+  **Longitudinal Study:** Data are gathered by following the same group or subjects over a period, allowing for the study of changes and developments.\n",
    "+  **Meta-Analysis:** A study that compiles and statistically analyzes data from multiple previous studies to derive a more comprehensive conclusion.\n",
    "+  **Case Study:** An in-depth examination of a single subject, event, or entity, looking at multiple variables that may influence the outcome or situatio"
   ]
  },
  {
   "cell_type": "markdown",
   "id": "1802ed17-d234-4094-a6e7-2b31ce2e4505",
   "metadata": {},
   "source": [
    "---\n",
    "## Section 1.3.3: Experiments\n",
    "---"
   ]
  },
  {
   "cell_type": "markdown",
   "id": "c654dbc0-9e67-40eb-b695-b069d1d17765",
   "metadata": {},
   "source": [
    "### Experiments: \n",
    "Are the only way to show a cause-and-effect relationship."
   ]
  },
  {
   "cell_type": "markdown",
   "id": "8e74716f-1c7c-44a3-8ffa-27c41dd0125c",
   "metadata": {},
   "source": [
    "+ **Treatment:** A condition applied to a group of subjects in an experiment.\n",
    "+ **Subjects:** Individuals (or things) being studied in an experiment; also referred to as participants.\n",
    " + **Response Variable:** The variable that is measured to assess the effects of the treatment; it responds to the changes made in the experiment.\n",
    "+ **Explanatory Variable:** The variable that the researcher manipulates or changes to examine its effect on the response variable; also called the independent variable.\n",
    "+ **Control group:** A group of subjects that do not receive the experimental treatment, serving as a baseline for comparison; they might receive a placebo or no treatment at all.\n",
    "+ **Placebo effect:** A phenomenon where subjects experience a perceived improvement in their condition simply because they believe they are receiving treatment, even if the treatment is inactive.\n",
    "+ **Treatment group:** A group of subjects that receive experimental treatment."
   ]
  },
  {
   "cell_type": "markdown",
   "id": "9d43be68-3ebb-4eb0-b897-7f87f84d7034",
   "metadata": {},
   "source": [
    "+ **Single Blind Experiment:** An experimental setup where the subjects are unaware of whether they are in the control group or the treatment group, but the researchers or individuals administering the experiment know the group assignments. This helps to reduce bias in subjects' responses.\n",
    "+ **Double Blind Experiment:** Neither the subjects nor the researchers administering the treatments know which subjects belong to the control or treatment group. This design further reduces bias by preventing both subjects and experimenters from influencing the outcomes based on their knowledge of group assignment.\n",
    "+ **Confounding Variables:** Variables that are not part of the treatment but may still affect the outcome of the experiment. These variables make it difficult to determine whether the observed effect is due to the treatment or some other factor.\n",
    "+ **Institutional Review Board (IRB):** A committee of experts that reviews the design and methodology of a study to ensure ethical standards are met and that no unnecessary harm will occur to participants. This is especially important for studies involving human subjects.\n",
    "+ **Informed Consent:** A process in which participants are fully informed about the purpose, procedures, risks, and benefits of a study before agreeing to take part. Participants' consent must be obtained voluntarily, ensuring they understand what the experiment involves."
   ]
  },
  {
   "cell_type": "markdown",
   "id": "970af29a-9b18-4ae9-9783-478a6b5e6b25",
   "metadata": {},
   "source": [
    "#### Experiments: How to design an experiment\n",
    "1. Randomize the control and treatment groups\n",
    "2. Control for outside effects on the response variable\n",
    "3. Replicate the experiment a significant number of times to see meaningful patterns."
   ]
  },
  {
   "cell_type": "markdown",
   "id": "135b26db-b418-4abd-9983-ae24cf76d9e5",
   "metadata": {},
   "source": [
    "---\n",
    "## Section 1.4: Critiquing a Published Study\n",
    "---"
   ]
  },
  {
   "cell_type": "markdown",
   "id": "d73b1b84-f80a-40aa-ace7-7d28a3b99849",
   "metadata": {},
   "source": [
    "### 1: Consider the Source"
   ]
  },
  {
   "cell_type": "markdown",
   "id": "84d42e16-47cc-4cad-922a-c8826dde2877",
   "metadata": {},
   "source": [
    "\n",
    "+ Who paid for the study?\n",
    "    + It’s essential to know who funded the study, as the funding source could introduce bias. For example, if a pharmaceutical company funds a study on a new drug, there's a potential for conflict of interest.\n",
    "+ Where was the data collected?\n",
    "    + The location of data collection matters, as geographical or cultural factors might influence the study's outcomes. Results may not be generalizable if the data were collected in a specific area that doesn't represent the larger population.\n",
    "+ When was the information collected?\n",
    "    + Timing can impact study results. Data collected during a pandemic, for instance, might differ significantly from data collected under normal circumstances.\n",
    "+ Who published the study?\n",
    "    + The reputation and rigor of the journal or organization that published the study are important. Was it peer-reviewed? Is the publisher reputable? Publishing in a respected journal usually indicates a higher level of scrutiny. "
   ]
  },
  {
   "cell_type": "markdown",
   "id": "85cc5ea0-f9a3-437f-9a8b-d69e91f02872",
   "metadata": {},
   "source": [
    "### 2. Consider the Variable"
   ]
  },
  {
   "cell_type": "markdown",
   "id": "8e91e9f3-d30c-4613-a15b-be91129208ec",
   "metadata": {},
   "source": [
    "+ Are the explanatory and response variables clearly defined?\n",
    "+ Are confounding variables identified and controlled?\n",
    "+ Are the variables relevant and appropriate for the study?"
   ]
  },
  {
   "cell_type": "markdown",
   "id": "a77de624-4d4f-441f-a0fc-3bf13cd9a049",
   "metadata": {},
   "source": [
    "### 3. Consider the Setup"
   ]
  },
  {
   "cell_type": "markdown",
   "id": "e96436b3-658f-4805-9deb-6f0acaaa8d10",
   "metadata": {},
   "source": [
    "\n",
    "+ **Bias:** Are there signs of favoring certain outcomes? Was the study designed or interpreted in a way that favors the sponsor or researchers’ goals?\n",
    "+ **Sampling Bias:** Was the sample representative of the population? If certain groups were over- or underrepresented, the results might not be generalizable.\n",
    "+ **Dropouts:** Are participants who begin a study but fail to complete it.\n",
    "+ **Processing errors:** Are errors that occur from the data being processed, such as typos.\n",
    "+ **Nonadherent:** Participant  who remains in the study but strays from the directions.\n",
    "+ **Researcher Bias:** Did the researchers' expectations or actions influence the results?\n",
    "+ **Response Bias:** Occurs when a researchers behavior causes a participant to alter their response or when a participant gives an inaccurate response.\n",
    "+ **Participation Bias:** Occurs when there is a problem with the participation or lack thereof -of those chosen for the study.\n",
    "+ **Nonresponse Bias:** Occurs when there is a lack of participation in a self-selected sample from certain segments of a population, when a person refuses to participate in a survey, or when a respondent omits questions when answering a survey. "
   ]
  },
  {
   "cell_type": "markdown",
   "id": "522f273f-024d-460f-960e-88e8b2ec368f",
   "metadata": {},
   "source": [
    "### 4. Consider the Conclusion"
   ]
  },
  {
   "cell_type": "markdown",
   "id": "8450ab4b-3330-4959-9d10-ab038911a7c3",
   "metadata": {},
   "source": [
    "+ Do the data support the conclusion?\n",
    "+ Do the results present the whole picture or just a part?\n",
    "+ Could there be another conclusion drawn?\n",
    "+ Could there be other reasons for the same conclusion drawn?\n",
    "+ Does the study have any practical applications?"
   ]
  },
  {
   "cell_type": "markdown",
   "id": "d191fd0f-e6f4-467f-b614-68f627c14dca",
   "metadata": {},
   "source": [
    "---\n",
    "### Up Next Chapter 2 ...\n",
    "---"
   ]
  }
 ],
 "metadata": {
  "kernelspec": {
   "display_name": "Python 3 (ipykernel)",
   "language": "python",
   "name": "python3"
  },
  "language_info": {
   "codemirror_mode": {
    "name": "ipython",
    "version": 3
   },
   "file_extension": ".py",
   "mimetype": "text/x-python",
   "name": "python",
   "nbconvert_exporter": "python",
   "pygments_lexer": "ipython3",
   "version": "3.11.7"
  }
 },
 "nbformat": 4,
 "nbformat_minor": 5
}
