{
 "cells": [
  {
   "cell_type": "markdown",
   "id": "17984f43-cc51-4b02-b1fd-d3e2c2eb7b94",
   "metadata": {},
   "source": [
    "# Chapter 3\n",
    "**Author:** Veasna Bun  "
   ]
  },
  {
   "cell_type": "code",
   "execution_count": 2,
   "id": "c4aa92c9-db8d-4920-8f03-1f2668e7213a",
   "metadata": {},
   "outputs": [],
   "source": [
    "import pandas as pd\n",
    "import numpy as np\n",
    "import matplotlib.pyplot as plt"
   ]
  },
  {
   "cell_type": "markdown",
   "id": "93a968e8-d8f1-48f5-bb63-ffa0937241da",
   "metadata": {},
   "source": [
    "---\n",
    "## Section 3.1: Measures of Center\n",
    "---"
   ]
  },
  {
   "cell_type": "markdown",
   "id": "ffd96b7b-5a12-4754-b8f6-b88c4f901344",
   "metadata": {},
   "source": [
    "### **Mean:** \n",
    "The average of a set of data. It is calculated by dividing the sum of all data values by the number of data values, denoted as *n*.\n",
    "### **Weighted Mean:** \n",
    "The average of a data set where each data value is assigned a specific weight, reflecting its importance. It is calculated by multiplying each data value by its corresponding weight, summing these products, and then dividing by the total of the weights.\n",
    "### **Median:** \n",
    "The middle data value when the data set is ordered from least to greatest. If there is an odd number of values, the median is the middle value. If the data set has an even number of values, the median is the average of the two middle values.data set with an even number of values.\n",
    "### **Mode:** \n",
    "The data value(s) that occur most frequently in a data set. A data set can have:\n",
    "+ No mode (if no value repeats)\n",
    "+ One mode (unimodal)\n",
    "+ Two modes (bimodal)\n",
    "+ Or several modes (multimodal)"
   ]
  },
  {
   "cell_type": "code",
   "execution_count": 5,
   "id": "e4b52f42-8483-48ac-a12a-7a7dc5167391",
   "metadata": {},
   "outputs": [
    {
     "name": "stdout",
     "output_type": "stream",
     "text": [
      "            Data\n",
      "count  15.000000\n",
      "mean    6.533333\n",
      "std     2.065591\n",
      "min     3.000000\n",
      "25%     5.500000\n",
      "50%     7.000000\n",
      "75%     8.000000\n",
      "max    10.000000\n",
      "Mode: 7\n"
     ]
    }
   ],
   "source": [
    "# Example show Mean, Median, Mode, and more (Weighted Mean is not included)\n",
    "# Descriptive Statistics \n",
    "\n",
    "# Sample data\n",
    "data = [4, 7, 8, 3, 6, 8, 7, 5, 9, 8, 3, 6, 7, 10, 7]\n",
    "\n",
    "# Create a pandas DataFrame\n",
    "df = pd.DataFrame(data, columns=['Data'])\n",
    "\n",
    "# Descriptive statistics\n",
    "descriptive_stats = df.describe()\n",
    "\n",
    "# Calculate mode separately, as describe does not include mode\n",
    "mode = df['Data'].mode()\n",
    "\n",
    "print(descriptive_stats)\n",
    "print(\"Mode:\", mode[0])"
   ]
  },
  {
   "cell_type": "markdown",
   "id": "603efd4a-57e1-4380-ac6c-862bc4fc741b",
   "metadata": {},
   "source": [
    "### Choosing the Appropriate Measure\n",
    "#### **Mode for Qualitative Data:** \n",
    "When dealing with categorical or qualitative data (e.g., gender, color, brand preference), the mode is the most appropriate measure, as it indicates the most frequent category in the data set.\n",
    "#### **Mean for Quantitative Data:** \n",
    "For quantitative data (e.g., heights, ages, test scores), the mean is typically used because it represents the average. However, this is only recommended when the data set does not contain significant outliers or is not skewed. Outliers can distort the mean, making it less representative of the data as a whole.\n",
    "#### **Median for Skewed or Outlier-Heavy Quantitative Data:** \n",
    "If the data set is skewed (i.e., has a long tail to the left or right) or contains outliers (extreme values that differ significantly from the rest of the data), the median is a better measure of central tendency. This is because the median is not affected by extreme values and thus provides a better central location for skewed data."
   ]
  },
  {
   "cell_type": "markdown",
   "id": "d7e0a509-7a6a-46b7-a095-fc4b5d1b0fef",
   "metadata": {},
   "source": [
    "---\n",
    "## Section 3.2.1: Measures of Spread or Dispersion\n",
    "---"
   ]
  },
  {
   "cell_type": "markdown",
   "id": "053bd6e6-44be-4450-b4f5-6fd2ee06df5c",
   "metadata": {},
   "source": [
    "### **Range:** \n",
    "The range is a measure of the spread of a data set. It is calculated by subtracting the smallest (least) data value from the largest (greatest) data value:\n",
    "$$\n",
    "Range = max(data) - min(data)\n",
    "$$\n",
    "\n",
    "### **Variance:**  \n",
    "Variance measures the degree to which each data point in a set differs from the mean. In other words, it quantifies the spread or dispersion of the data points around the mean. A higher variance indicates that the data points are more spread out, while a lower variance shows that they are closer to the mean.\n",
    "\n",
    "#### Population Variance: \n",
    "$$\n",
    "\\sigma^2 = \\frac{\\sum_{}^{} (x_i - \\mu)^2}{N}\n",
    "$$\n",
    "#### Sample Variance:\n",
    "$$\n",
    "s^2 = \\frac{\\sum_{}^{} (x_i - \\bar{x})^2}{n-1}\n",
    "$$"
   ]
  },
  {
   "cell_type": "code",
   "execution_count": 9,
   "id": "e6eb00e9-4d95-4147-a45d-82c39cef3f64",
   "metadata": {},
   "outputs": [
    {
     "name": "stdout",
     "output_type": "stream",
     "text": [
      "Population Variance: 127.80102040816325\n",
      "Sample Variance: 137.63186813186812\n"
     ]
    }
   ],
   "source": [
    "# Example data\n",
    "data = [5, 7, 8, 12, 15, 18, 22, 25, 27, 30, 32, 35, 37, 40]\n",
    "# Convert data to a pandas Series\n",
    "data_series = pd.Series(data)\n",
    "# Calculate population variance\n",
    "population_variance = data_series.var(ddof=0)\n",
    "# Calculate sample variance\n",
    "sample_variance = data_series.var()\n",
    "print(\"Population Variance:\", population_variance)\n",
    "print(\"Sample Variance:\", sample_variance)"
   ]
  },
  {
   "cell_type": "markdown",
   "id": "f2c361dd-307e-463a-8daf-a186940105f7",
   "metadata": {},
   "source": [
    "### **Standard Deviation:** \n",
    "The standard deviation is a measure of how much we might expect a typical member of the data set to differ from the mean.\n",
    "\n",
    "#### Population Standard Deviation: \n",
    "$$\n",
    "\\sigma = \\sqrt{\\frac{\\sum_{}^{} (x_i - \\mu)^2}{N}}\n",
    "$$\n",
    "#### Sample Standard Deviation:\n",
    "$$\n",
    "s = \\sqrt{\\frac{\\sum_{}^{} (x_i - \\bar{x})^2}{n-1}}\n",
    "$$\n",
    "+ If the standard deviation is small, the data is less spread out.\n",
    "+ If the standard deviation is large, the data is more spread out.\n",
    "\n",
    "While both variance and standard deviation indicate how spread out the data is, the Standard Deviation is often more intuitive because it is in the same units as the original data, making it easier to interpret."
   ]
  },
  {
   "cell_type": "code",
   "execution_count": 11,
   "id": "25e573da-92cb-4f71-8fc8-bafe7751c915",
   "metadata": {},
   "outputs": [
    {
     "name": "stdout",
     "output_type": "stream",
     "text": [
      "Population Standard Deviation: 11.304911340128381\n",
      "Sample Standard Deviation: 11.731660928098293\n"
     ]
    }
   ],
   "source": [
    "# Calculate population standard deviation\n",
    "population_std = data_series.std(ddof=0)\n",
    "print(\"Population Standard Deviation:\", population_std)\n",
    "\n",
    "# Calculate sample standard deviation\n",
    "sample_std = data_series.std()\n",
    "print(\"Sample Standard Deviation:\", sample_std)"
   ]
  },
  {
   "cell_type": "markdown",
   "id": "7cc98b03-50bd-4560-a66f-b951a70af072",
   "metadata": {},
   "source": [
    "---\n",
    "## Section 3.2.2: Empirical Rule and Chebyshev's Theorem\n",
    "---"
   ]
  },
  {
   "cell_type": "markdown",
   "id": "348c483b-f0f9-46f3-916b-d0f72d9648e4",
   "metadata": {},
   "source": [
    "### Empirical Rule\n",
    "The **Empirical Rule**, also known as the **68-95-99.7 Rule**, provides useful insights about the distribution of data when it follows a **normal distribution** (bell-shaped curve). \n",
    "+ 68% of the data falls within 1 standard deviation of the mean:\n",
    "  $$\\mu - \\sigma \\leq x \\leq \\mu + \\sigma$$\n",
    "+ 95% of the data falls within 2 standard deviations of the mean:\n",
    "  $$\\mu - 2\\sigma \\leq x \\leq \\mu + 2\\sigma$$\n",
    "+ 99.7% of the data falls within 3 standard deviations of the mean:\n",
    "  $$\\mu - 3\\sigma \\leq x \\leq \\mu + 3\\sigma$$"
   ]
  },
  {
   "cell_type": "code",
   "execution_count": 14,
   "id": "85cd727d-64e1-4120-9396-343120f1208f",
   "metadata": {},
   "outputs": [
    {
     "data": {
      "image/png": "[encoded data removed]",
      "text/plain": [
       "<Figure size 800x400 with 1 Axes>"
      ]
     },
     "metadata": {},
     "output_type": "display_data"
    }
   ],
   "source": [
    "# Parameters for the normal distribution\n",
    "\n",
    "# Mean\n",
    "mu = 0 \n",
    "# Standard deviation\n",
    "sigma = 1  \n",
    "# Range for the x-axis (4 std deviations)\n",
    "x = np.linspace(mu - 4*sigma, mu + 4*sigma, 1000)  # Range for the x-axis (4 std deviations)\n",
    "# Normal distribution formula\n",
    "y = (1 / (sigma * np.sqrt(2 * np.pi))) * np.exp(-0.5 * ((x - mu) / sigma) ** 2)  # Normal distribution formula\n",
    "\n",
    "# Plot the bell curve (normal distribution)\n",
    "plt.figure(figsize=(8, 4))\n",
    "plt.plot(x, y, label='Normal Distribution', color='blue')\n",
    "\n",
    "# Fill areas according to the Empirical Rule\n",
    "plt.fill_between(x, y, where=(x >= mu - sigma) & (x <= mu + sigma), color='green', alpha=0.2, label='1σ (68%)')\n",
    "plt.fill_between(x, y, where=(x >= mu - 2*sigma) & (x <= mu + 2*sigma), color='yellow', alpha=0.2, label='2σ (95%)')\n",
    "plt.fill_between(x, y, where=(x >= mu - 3*sigma) & (x <= mu + 3*sigma), color='red', alpha=0.2, label='3σ (99.7%)')\n",
    "\n",
    "# Add vertical lines for mean and standard deviations\n",
    "plt.axvline(mu, color='black', linestyle='--', label='Mean (μ)')\n",
    "plt.axvline(mu - sigma, color='green', linestyle='--')\n",
    "plt.axvline(mu + sigma, color='green', linestyle='--')\n",
    "plt.axvline(mu - 2*sigma, color='yellow', linestyle='--')\n",
    "plt.axvline(mu + 2*sigma, color='yellow', linestyle='--')\n",
    "plt.axvline(mu - 3*sigma, color='red', linestyle='--')\n",
    "plt.axvline(mu + 3*sigma, color='red', linestyle='--')\n",
    "\n",
    "# Add labels and title\n",
    "plt.title('Empirical Rule: 68-95-99.7% for Normal Distribution', fontsize=12)\n",
    "plt.xlabel('X values', fontsize=10)\n",
    "plt.ylabel('Probability Density', fontsize=10)\n",
    "\n",
    "# Add legend\n",
    "plt.legend(loc='upper left')\n",
    "\n",
    "# Show plot\n",
    "plt.show()"
   ]
  },
  {
   "cell_type": "markdown",
   "id": "8a9e1eae-046d-43e0-8423-470f38e99ddb",
   "metadata": {},
   "source": [
    "### Chebyshev's Theorem for Other Distributions \n",
    "While the **Empirical Rule** is specifically for bell-shaped (normal) distributions, **Chebyshev's Theorem** applies to any distribution, regardless of its shape. This theorem provides a way to estimate the minimum proportion of data that lies within a certain number of standard deviations from the mean, even when the data is not normally distributed.\n",
    "\n",
    "For any distribution (not necessarily normal), the proportion of data that lies within *k* standard deviations from the mean is at least:\n",
    "$$\n",
    "1 - \\frac{1}{k^2}\n",
    "$$\n",
    "\n",
    "Where $k > 1$ is the number of standard deviations from the mean."
   ]
  },
  {
   "cell_type": "markdown",
   "id": "2a13c12c-2ff5-4a32-ae25-e21e3d38f09a",
   "metadata": {},
   "source": [
    "+  **At least 75%** of the data falls within **2 standard deviations** of the mean $(k = 2)$:\n",
    "$$\n",
    "1 - \\frac{1}{2^2} = 1 - \\frac{1}{4} = 0.75\n",
    "$$\n",
    "+  **At least 89%** of the data falls within **3 standard deviations** of the mean $(k = 3)$:\n",
    "$$\n",
    "1 - \\frac{1}{3^2} = 1 - \\frac{1}{9} = 0.888\\overline{8}\n",
    "$$\n",
    "+  **At least 94%** of the data falls within **4 standard deviations** of the mean $(k = 4)$:\n",
    "$$\n",
    "1 - \\frac{1}{4^2} = 1 - \\frac{1}{16} = 0.9375\n",
    "$$"
   ]
  },
  {
   "cell_type": "markdown",
   "id": "b503883a-9baa-4e65-97b0-33cc3b25dd8e",
   "metadata": {},
   "source": [
    "---\n",
    "## Section 3.3.1: Measures of Relative Position\n",
    "---"
   ]
  },
  {
   "cell_type": "markdown",
   "id": "b5496d3f-db60-40c8-bb18-2b4df41d6470",
   "metadata": {},
   "source": [
    "### Percentiles\n",
    "**Percentiles** are a statistical measure used to understand the relative position of a value within a dataset. They divide the data into 100 equal parts, each representing 1% of the data. This helps in identifying the position of a value relative to the rest of the data.\n",
    "+ The $P^{th}$ percentile is the value below which $P%$ of the observations in a dataset fall.\n",
    "+ **Location Formula:** To find the location $l$ of the $P^{th}$ percentile in a dataset with $n$ data point, use the formula:\n",
    "    + $l = n \\cdot \\frac{P}{100}$, where $n$ is the number of data points in the dataset.\n",
    "    + Here, $l$ is the position in the sorted dataset.\n",
    "    + If $l$ is not an integer, round up to the next whole number.\n",
    "    + If $1$ is an integer, the percentile value is the average of the data values at $l$ and $l + 1$. \n",
    "+ **Percentile Formula:** To find the percentile rank $P$ of a specific value in a dataset, use the formula:\n",
    "    + $P = \\frac{l}{n} \\cdot 100$\n",
    "    + $l$ is the position of the value, and $n$ is the total number of data points."
   ]
  },
  {
   "cell_type": "code",
   "execution_count": 19,
   "id": "f44fea8e-e2a7-4bd1-872c-dcf6c5ca8b7a",
   "metadata": {},
   "outputs": [
    {
     "name": "stdout",
     "output_type": "stream",
     "text": [
      "The 30th percentile value is: 14.7\n",
      "The percentile rank of the value 22 is: 50.0\n"
     ]
    }
   ],
   "source": [
    "# Example data\n",
    "data = [5, 7, 8, 12, 15, 18, 22, 25, 27, 30, 32, 35, 37, 40]\n",
    "\n",
    "# Convert data to a pandas Series\n",
    "data_series = pd.Series(data)\n",
    "\n",
    "# Define the desired percentile\n",
    "percentile = 30  \n",
    "# Find the value at the given percentile\n",
    "percentile_value = data_series.quantile(percentile / 100)\n",
    "print(f\"The {percentile}th percentile value is: {percentile_value}\")\n",
    "\n",
    "# To find the percentile rank of a specific value\n",
    "value = 22  # Example value\n",
    "# Calculate the percentile rank using the rank method\n",
    "percentile_rank = (data_series.rank(pct=True) * 100).loc[data_series == value].values[0]\n",
    "print(f\"The percentile rank of the value {value} is: {percentile_rank}\")"
   ]
  },
  {
   "cell_type": "markdown",
   "id": "78397f5b-f983-4b6f-995d-e917cb4a9649",
   "metadata": {},
   "source": [
    "### Quartiles\n",
    "\n",
    "Quartiles are statistical values that divide a dataset into four equal parts, each representing 25% of the data. Quartiles help in understanding the spread and distribution of data by identifying key points in the dataset.\n",
    "\n",
    "#### The Three Quartiles:\n",
    "\n",
    "1. **First Quartile (Q1)**:\n",
    "   - Also known as the lower quartile, $Q_1$ represents the 25th percentile. It is the value below which 25% of the data fall. $Q_1$ separates the lowest 25% of data from the rest.\n",
    "   \n",
    "2. **Second Quartile (Q2)**:\n",
    "   - This is the 50th percentile, also known as the median. It divides the data into two equal halves, with 50% of the data below this value and 50% above.\n",
    "   \n",
    "3. **Third Quartile (Q3)**:\n",
    "   - Also known as the upper quartile, $Q_3$ represents the 75th percentile. It is the value below which 75% of the data fall, separating the highest 25% from the rest.\n",
    "\n",
    "#### Interquartile Range (IQR):\n",
    "- The interquartile range is a measure of the spread of the middle 50% of the data and is calculated as:\n",
    "  $$\\text{IQR} = Q_3 - Q_1$$\n",
    "- The IQR helps in identifying the variability of the data and detecting outliers.\n",
    "- Values outside the range of $Q_1 - 1.5 \\times \\text{IQR}, Q_3 + 1.5 \\times \\text{IQR}$ are often considered outliers.\n",
    "\n",
    "#### Calculation:\n",
    "- **$Q_1$** is the value at the 25th percentile.\n",
    "- **$Q_2$ (median)** is the value at the 50th percentile.\n",
    "- **$Q_3$** is the value at the 75th percentile.\n"
   ]
  },
  {
   "cell_type": "code",
   "execution_count": 21,
   "id": "b09d4763-ed96-4a0f-b912-55cf1981589e",
   "metadata": {},
   "outputs": [
    {
     "name": "stdout",
     "output_type": "stream",
     "text": [
      "Q1 (25th percentile): 12.75\n",
      "Q2 (50th percentile, Median): 23.5\n",
      "Q3 (75th percentile): 31.5\n",
      "Interquartile Range (IQR): 18.75\n",
      "Lower bound for outliers: -15.375\n",
      "Upper bound for outliers: 59.625\n",
      "Outliers: []\n"
     ]
    }
   ],
   "source": [
    "# Example dataset\n",
    "data = [5, 7, 8, 12, 15, 18, 22, 25, 27, 30, 32, 35, 37, 40]\n",
    "\n",
    "# Convert data to a pandas Series\n",
    "data_series = pd.Series(data)\n",
    "\n",
    "# Calculate Q1 (25th percentile), Q2 (50th percentile), and Q3 (75th percentile)\n",
    "Q1 = data_series.quantile(0.25)\n",
    "Q2 = data_series.quantile(0.50)\n",
    "Q3 = data_series.quantile(0.75)\n",
    "\n",
    "# Calculate the Interquartile Range (IQR)\n",
    "IQR = Q3 - Q1\n",
    "# Define lower and upper bounds for outliers\n",
    "lower_bound = Q1 - 1.5 * IQR\n",
    "upper_bound = Q3 + 1.5 * IQR\n",
    "\n",
    "print(f\"Q1 (25th percentile): {Q1}\")\n",
    "print(f\"Q2 (50th percentile, Median): {Q2}\")\n",
    "print(f\"Q3 (75th percentile): {Q3}\")\n",
    "print(f\"Interquartile Range (IQR): {IQR}\")\n",
    "print(f\"Lower bound for outliers: {lower_bound}\")\n",
    "print(f\"Upper bound for outliers: {upper_bound}\")\n",
    "\n",
    "# Identify outliers\n",
    "outliers = data_series[(data_series < lower_bound) | (data_series > upper_bound)]\n",
    "print(f\"Outliers: {outliers.tolist()}\")"
   ]
  },
  {
   "cell_type": "markdown",
   "id": "5d50e051-44e3-4bc2-864d-107c0cf83508",
   "metadata": {},
   "source": [
    "---\n",
    "## Section 3.3.2: Box Plots and the Five-Number Summary\n",
    "---"
   ]
  },
  {
   "cell_type": "markdown",
   "id": "91f5dff6-78c9-4a7d-a26c-bb2b3e8909cd",
   "metadata": {},
   "source": [
    "### Box Plots\n",
    "\n",
    "A **box plot** (or **box-and-whisker plot**) is a graphical representation of a dataset that visually displays the distribution, central tendency, and variability. It summarizes the data using five key statistics: minimum, first quartile (Q1), median (Q2), third quartile (Q3), and maximum, and can help identify outliers.\n",
    "\n",
    "#### Key Components of a Box Plot:\n",
    "1. **The Box**: \n",
    "   - The box represents the interquartile range (IQR), which is the range between the first quartile (Q1) and the third quartile (Q3).\n",
    "   - The left (or bottom) edge of the box marks **Q1** (25th percentile), and the right (or top) edge marks **Q3** (75th percentile).\n",
    "\n",
    "2. **The Median (Q2)**:\n",
    "   - A line inside the box represents the **median** (Q2), which is the 50th percentile. Half the data points fall below this value, and half are above.\n",
    "\n",
    "3. **The Whiskers**:\n",
    "   - The whiskers extend from the edges of the box to the smallest and largest data points that are **not outliers**.\n",
    "   - The whiskers typically extend to the minimum and maximum data values within \\( 1.5 \\times \\text{IQR} \\) from Q1 and Q3, respectively.\n",
    "\n",
    "4. **Outliers**:\n",
    "   - Data points that fall outside \\( 1.5 \\times \\text{IQR} \\) from Q1 or Q3 are considered **outliers** and are usually marked as individual points outside the whiskers.\n"
   ]
  },
  {
   "cell_type": "markdown",
   "id": "ad2ee116-088e-4782-a3d3-7f3ab08d00d7",
   "metadata": {},
   "source": [
    "### 5-Number Summary\n",
    "\n",
    "The **5-number summary** is a set of descriptive statistics that provides key information about a dataset. It consists of:\n",
    "1. **Minimum**: The smallest value in the dataset.\n",
    "2. **First Quartile (Q1)**: The 25th percentile, which separates the lowest 25% of the data.\n",
    "3. **Median (Q2)**: The 50th percentile, which divides the data into two equal halves.\n",
    "4. **Third Quartile (Q3)**: The 75th percentile, which separates the highest 25% of the data.\n",
    "5. **Maximum**: The largest value in the dataset.\n",
    "\n",
    "The 5-number summary is especially useful for understanding the spread of the data and detecting potential outliers when paired with a box plot."
   ]
  },
  {
   "cell_type": "code",
   "execution_count": 25,
   "id": "c713d0a2-4b10-4f58-b9ce-95e0bfda0916",
   "metadata": {},
   "outputs": [
    {
     "name": "stdout",
     "output_type": "stream",
     "text": [
      "Q1 (25th percentile): 12.75\n",
      "Q2 (50th percentile, Median): 23.5\n",
      "Q3 (75th percentile): 31.5\n",
      "Interquartile Range (IQR): 18.75\n",
      "Lower bound for outliers: -15.375\n",
      "Upper bound for outliers: 59.625\n",
      "Outliers: []\n"
     ]
    },
    {
     "data": {
      "image/png": "[encoded data removed]",
      "text/plain": [
       "<Figure size 640x480 with 1 Axes>"
      ]
     },
     "metadata": {},
     "output_type": "display_data"
    }
   ],
   "source": [
    "# Example dataset\n",
    "data = [5, 7, 8, 12, 15, 18, 22, 25, 27, 30, 32, 35, 37, 40]\n",
    "\n",
    "# Convert data to a pandas Series\n",
    "data_series = pd.Series(data)\n",
    "\n",
    "# Calculate the 5-number summary\n",
    "minimum = data_series.min()\n",
    "Q1 = data_series.quantile(0.25)\n",
    "median = data_series.median()  # Q2\n",
    "Q3 = data_series.quantile(0.75)\n",
    "maximum = data_series.max()\n",
    "\n",
    "# Calculate the Interquartile Range (IQR)\n",
    "IQR = Q3 - Q1\n",
    "# Define lower and upper bounds for outliers\n",
    "lower_bound = Q1 - 1.5 * IQR\n",
    "upper_bound = Q3 + 1.5 * IQR\n",
    "\n",
    "print(f\"Q1 (25th percentile): {Q1}\")\n",
    "print(f\"Q2 (50th percentile, Median): {Q2}\")\n",
    "print(f\"Q3 (75th percentile): {Q3}\")\n",
    "print(f\"Interquartile Range (IQR): {IQR}\")\n",
    "print(f\"Lower bound for outliers: {lower_bound}\")\n",
    "print(f\"Upper bound for outliers: {upper_bound}\")\n",
    "\n",
    "# Identify outliers\n",
    "outliers = data_series[(data_series < lower_bound) | (data_series > upper_bound)]\n",
    "print(f\"Outliers: {outliers.tolist()}\")\n",
    "\n",
    "# Create a box plot\n",
    "plt.boxplot(data_series, vert=False, patch_artist=True)\n",
    "plt.title(\"Box Plot of Data\")\n",
    "plt.xlabel(\"Values\")\n",
    "plt.show()"
   ]
  },
  {
   "cell_type": "markdown",
   "id": "1f572c4d-cf93-445e-9944-3d50f0d10444",
   "metadata": {},
   "source": [
    "---\n",
    "## Section 3.3.3: Intro to Z-Scores\n",
    "---"
   ]
  },
  {
   "cell_type": "markdown",
   "id": "58e267bc-7171-42c3-957b-d73bf798344b",
   "metadata": {},
   "source": [
    "### Z-Score Definition\n",
    "A z-score, or standard score, quantifies how many standard deviations a data point is away from the mean of the distribution. It standardizes scores from different distributions to make them comparable.\n",
    "\n",
    "**1. Population Z-Score:**\n",
    "\n",
    "When dealing with a population, the z-score is calculated using:\n",
    "$$\n",
    "z = \\frac{(X - \\mu)}{\\sigma}\n",
    "$$\n",
    "\n",
    "where:\n",
    "- $X$ = the value of the data point\n",
    "- $\\mu$ = the population mean\n",
    "- $\\sigma$ = the population standard deviation\n",
    "\n",
    "**2. Sample Z-Score:**\n",
    "\n",
    "When dealing with a sample, the z-score is calculated using:\n",
    "$$\n",
    "z = \\frac{(X - \\bar{X})}{s}\n",
    "$$\n",
    "where:\n",
    "- $X$ = the value of the data point\n",
    "- $\\bar{X}$ = the sample mean\n",
    "- $s$ = the sample standard deviation\n",
    "\n",
    "#### Interpretation\n",
    "- A z-score of 0 indicates the data point is exactly at the mean.\n",
    "- Positive z-scores indicate the data point is above the mean.\n",
    "- Negative z-scores indicate the data point is below the mean.\n",
    "- The magnitude of the z-score shows the distance from the mean in terms of standard deviations.\n"
   ]
  },
  {
   "cell_type": "code",
   "execution_count": 28,
   "id": "688d3484-907e-4614-ba94-cea43859f7fb",
   "metadata": {},
   "outputs": [
    {
     "name": "stdout",
     "output_type": "stream",
     "text": [
      "Population Z-Scores:\n",
      "0   -1.414214\n",
      "1   -0.707107\n",
      "2    0.000000\n",
      "3    0.707107\n",
      "4    1.414214\n",
      "dtype: float64\n",
      "\n",
      "Sample Z-Scores:\n",
      "0   -1.264911\n",
      "1   -0.632456\n",
      "2    0.000000\n",
      "3    0.632456\n",
      "4    1.264911\n",
      "dtype: float64\n"
     ]
    }
   ],
   "source": [
    "# Sample data\n",
    "data = pd.Series([10, 20, 30, 40, 50]) \n",
    "\n",
    "# Calculate mean and standard deviation for population\n",
    "population_mean = data.mean()\n",
    "# ddof=0 for population standard deviation\n",
    "population_std = data.std(ddof=0)  \n",
    "# Calculate z-scores for population\n",
    "population_z_scores = (data - population_mean) / population_std\n",
    "\n",
    "# Calculate mean and standard deviation for sample\n",
    "sample_mean = data.mean()\n",
    "# ddof=1 for sample standard deviation\n",
    "sample_std = data.std(ddof=1)\n",
    "# Calculate z-scores for sample\n",
    "sample_z_scores = (data - sample_mean) / sample_std\n",
    "\n",
    "# Display results\n",
    "print(\"Population Z-Scores:\")\n",
    "print(population_z_scores)\n",
    "\n",
    "print(\"\\nSample Z-Scores:\")\n",
    "print(sample_z_scores)"
   ]
  },
  {
   "cell_type": "markdown",
   "id": "1c2ba619-ef26-4195-b60f-60dde2361473",
   "metadata": {},
   "source": [
    "---\n",
    "### Up Next Chapter 4 ...\n",
    "---"
   ]
  }
 ],
 "metadata": {
  "kernelspec": {
   "display_name": "Python 3 (ipykernel)",
   "language": "python",
   "name": "python3"
  },
  "language_info": {
   "codemirror_mode": {
    "name": "ipython",
    "version": 3
   },
   "file_extension": ".py",
   "mimetype": "text/x-python",
   "name": "python",
   "nbconvert_exporter": "python",
   "pygments_lexer": "ipython3",
   "version": "3.11.7"
  }
 },
 "nbformat": 4,
 "nbformat_minor": 5
}
